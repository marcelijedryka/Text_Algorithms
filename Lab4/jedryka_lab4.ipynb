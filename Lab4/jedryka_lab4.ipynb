{
 "cells": [
  {
   "attachments": {},
   "cell_type": "markdown",
   "metadata": {},
   "source": [
    "# Zadanie 1\n"
   ]
  },
  {
   "attachments": {},
   "cell_type": "markdown",
   "metadata": {},
   "source": [
    "Dice Metric"
   ]
  },
  {
   "cell_type": "code",
   "execution_count": 131,
   "metadata": {},
   "outputs": [],
   "source": [
    "def get_grams(t):\n",
    "    grams = dict()\n",
    "\n",
    "    for i in range(len(t) -1):\n",
    "        gram = t[i:i+2]\n",
    "        if gram in grams.keys():\n",
    "            grams[gram] += 1\n",
    "        else:\n",
    "            grams[gram] = 1\n",
    "\n",
    "    return grams\n",
    "\n",
    "\n",
    "def dice_metric(t1,t2):\n",
    "\n",
    "    t1_grams = get_grams(t1)\n",
    "    t2_grams = get_grams(t2)\n",
    "\n",
    "    out = set(t1_grams) & set(t2_grams)\n",
    "\n",
    "    return 1 - 2*len(out) / (len(t1_grams)+len(t2_grams))\n"
   ]
  },
  {
   "attachments": {},
   "cell_type": "markdown",
   "metadata": {},
   "source": [
    " Levenshtein Metric"
   ]
  },
  {
   "cell_type": "code",
   "execution_count": 132,
   "metadata": {},
   "outputs": [],
   "source": [
    "def levenshtein_metric(t1,t2):\n",
    "\n",
    "    x = len(t1) + 1\n",
    "    y = len(t2) + 1\n",
    "\n",
    "    distance = [[0 for i in range(y)] for j in range(x)]\n",
    "\n",
    "    for i in range(1,x):\n",
    "        distance[i][0] = i\n",
    "    for i in range(1,y):\n",
    "        distance[0][i] = i\n",
    "    \n",
    "    for i in range(1,x):\n",
    "        for j in range(1,y):\n",
    "            if t1[i-1] == t2[j-1]:\n",
    "                op = 1\n",
    "            else:\n",
    "                op = 0\n",
    "            distance[i][j] = min(distance[i - 1][j - 1] + op, distance[i - 1][j] + 1, distance[i][j - 1] + 1)\n",
    "    \n",
    "    return distance[x-1][y-1] / max(x-1, y-1)\n"
   ]
  },
  {
   "attachments": {},
   "cell_type": "markdown",
   "metadata": {},
   "source": [
    "LCS Metric"
   ]
  },
  {
   "cell_type": "code",
   "execution_count": 133,
   "metadata": {},
   "outputs": [],
   "source": [
    "import numpy as np\n",
    "def lcs_metric(t1,t2):\n",
    "\n",
    "    n1 = len(t1) + 1\n",
    "    n2 = len(t2) + 1\n",
    "\n",
    "    grid = np.array([[None for i in range(n2)] for j in range(n1)])\n",
    "\n",
    "    lcs = 0\n",
    "\n",
    "    for i in range(n1):\n",
    "        for j in range(n2):\n",
    "            if i == 0 or j == 0:\n",
    "                grid[i,j] = 0\n",
    "            else:\n",
    "                if t1[i-1] == t2[j-1]:\n",
    "                    grid[i,j] = grid[i-1 , j-1] + 1\n",
    "                else:\n",
    "                    grid[i,j] = max(grid[i-1 , j] , grid[i][j-1])\n",
    "            \n",
    "            lcs = max(lcs , grid[i,j])\n",
    "    \n",
    "    return 1 - (lcs / max(n1-1, n2-1))\n"
   ]
  },
  {
   "attachments": {},
   "cell_type": "markdown",
   "metadata": {},
   "source": [
    "# Zadanie 2"
   ]
  },
  {
   "cell_type": "code",
   "execution_count": 134,
   "metadata": {},
   "outputs": [],
   "source": [
    "import itertools\n",
    "\n",
    "\n",
    "def davies_bouldin(clusters, metric):\n",
    "\n",
    "    length = len(clusters)\n",
    "    avg_distance =[]\n",
    "    max_val = [0] * length\n",
    "\n",
    "    for cluster in clusters:\n",
    "        cluster.sort(key=lambda t1: sum([metric(t1, t2) for t2 in cluster if t1 != t2]))\n",
    "\n",
    "    centroids = [cluster[len(cluster) // 2] for cluster in clusters]\n",
    "\n",
    "    for cluster in clusters:\n",
    "\n",
    "        n, s = len(cluster) , 0\n",
    "\n",
    "        for t1, t2 in itertools.combinations(cluster, 2):\n",
    "\n",
    "            s += metric(t1,t2)\n",
    "        \n",
    "        if n != 1:\n",
    "            avg_distance.append(s/(n*(n - 1)/2))\n",
    "        else:\n",
    "            avg_distance.append(0)\n",
    "\n",
    "    for i, cluster1 in enumerate(clusters):\n",
    "        for j, cluster2 in enumerate(clusters):\n",
    "            if i != j:\n",
    "                try:\n",
    "                    v = (avg_distance[i] + avg_distance[j]) / metric(centroids[i], centroids[j])\n",
    "                except:\n",
    "                    v = (avg_distance[i] + avg_distance[j])\n",
    "    \n",
    "                max_val[i] = max(v, max_val[i])\n",
    "\n",
    "    return sum(max_val) / length"
   ]
  },
  {
   "attachments": {},
   "cell_type": "markdown",
   "metadata": {},
   "source": [
    "# Zadanie 3"
   ]
  },
  {
   "cell_type": "code",
   "execution_count": 135,
   "metadata": {},
   "outputs": [],
   "source": [
    "from collections import defaultdict\n",
    "def create_stoplist(txt):\n",
    "    stoplist = defaultdict(int)\n",
    "\n",
    "    for line in txt:\n",
    "        words = line.split()\n",
    "        for word in words:\n",
    "            stoplist[word] += 1\n",
    "    return sorted(stoplist.items(), key=lambda x:x[1] , reverse=True)\n",
    "\n",
    "\n"
   ]
  },
  {
   "attachments": {},
   "cell_type": "markdown",
   "metadata": {},
   "source": [
    "# Zadanie 4,5\n"
   ]
  },
  {
   "cell_type": "code",
   "execution_count": 136,
   "metadata": {},
   "outputs": [],
   "source": [
    "def load_file(file , size):\n",
    "        with open(file, \"r\", encoding=\"UTF-8\") as f:\n",
    "                text = f.read().splitlines()\n",
    "        \n",
    "        return text[:size]"
   ]
  },
  {
   "cell_type": "code",
   "execution_count": 141,
   "metadata": {},
   "outputs": [],
   "source": [
    "def make_clusters(text , metric_function , threshold , stoplist = False):\n",
    "\n",
    "    if stoplist:\n",
    "        stplist = create_stoplist(text)\n",
    "    \n",
    "    clusters = []\n",
    "    \n",
    "    for line in text:\n",
    "        flag = False\n",
    "        for cluster in clusters:\n",
    "            if any(metric_function(line, c_line) <= threshold for c_line in cluster):\n",
    "                flag = True\n",
    "                cluster.append(line)\n",
    "                break\n",
    "        if not flag:\n",
    "            clusters.append([line])\n",
    "    return clusters\n",
    "    "
   ]
  },
  {
   "cell_type": "code",
   "execution_count": 138,
   "metadata": {},
   "outputs": [],
   "source": [
    "import time\n",
    "\n",
    "def compare():\n",
    "\n",
    "    lines = load_file(\"lines.txt\" , 100)\n",
    "\n",
    "    print(\"PERFORMING TEST WITH 100 LINES AND THRESHOLD EQUAL TO 0.5\")\n",
    "\n",
    "    for i in range(2):\n",
    "        print(\"-----------------------\")\n",
    "        if i == 1:\n",
    "            print(\"Clustering with preprocessing\")\n",
    "        else:\n",
    "            print(\"Clustering without preprocessing\")\n",
    "\n",
    "        print(\"-----------------------\")\n",
    "\n",
    "        start = time.perf_counter()\n",
    "\n",
    "        dic_clust = make_clusters(lines , dice_metric , 0.5 , i)\n",
    "\n",
    "        stop = time.perf_counter()\n",
    "\n",
    "        print(\"Clusters with Dice Metric have been created | Time : \" , stop-start ,\"s\")\n",
    "\n",
    "        start = time.perf_counter()\n",
    "\n",
    "        lev_clust = make_clusters(lines , levenshtein_metric , 0.5 , i)\n",
    "\n",
    "        stop = time.perf_counter()\n",
    "\n",
    "        print(\"Clusters with Levenshtein Metric have been created | Time : \" , stop-start ,\"s\")\n",
    "\n",
    "        start = time.perf_counter()\n",
    "\n",
    "        lcs_clust = make_clusters(lines , lcs_metric , 0.5 , i)\n",
    "\n",
    "        stop = time.perf_counter()\n",
    "\n",
    "        print(\"Clusters with LCS Metric have been created | Time : \" , stop-start ,\"s\")\n",
    "\n",
    "        if i == 0:\n",
    "\n",
    "            print(\"-----------------------\")\n",
    "\n",
    "            start = time.perf_counter()\n",
    "\n",
    "            out = davies_bouldin(dic_clust , dice_metric)\n",
    "\n",
    "            stop = time.perf_counter()\n",
    "\n",
    "            print(\"Davies-Bouldin for Dice clusters has finished | Output : \" , out , \" | Time : \" , stop-start ,\"s\")\n",
    "\n",
    "            start = time.perf_counter()\n",
    "\n",
    "            out = davies_bouldin(lev_clust , levenshtein_metric)\n",
    "\n",
    "            stop = time.perf_counter()\n",
    "\n",
    "            print(\"Davies-Bouldin for Levenshtein clusters has finished | Output : \" , out , \" | Time : \" , stop-start ,\"s\")\n",
    "\n",
    "\n",
    "            start = time.perf_counter()\n",
    "\n",
    "            out = davies_bouldin(lcs_clust , lcs_metric)\n",
    "\n",
    "            stop = time.perf_counter()\n",
    "\n",
    "            print(\"Davies-Bouldin for LCS clusters has finished | Output : \" , out , \" | Time : \" , stop-start ,\"s\")\n",
    "\n",
    "\n",
    "        \n",
    "\n"
   ]
  },
  {
   "cell_type": "code",
   "execution_count": 140,
   "metadata": {},
   "outputs": [
    {
     "name": "stdout",
     "output_type": "stream",
     "text": [
      "PERFORMING TEST WITH 100 LINES AND THRESHOLD EQUAL TO 0.5\n",
      "-----------------------\n",
      "Clustering without preprocessing\n",
      "-----------------------\n",
      "Clusters with Dice Metric have been created | Time :  0.29460959997959435 s\n",
      "Clusters with Levenshtein Metric have been created | Time :  0.9120264000084717 s\n",
      "Clusters with LCS Metric have been created | Time :  42.844055800000206 s\n",
      "-----------------------\n",
      "Davies-Bouldin for Dice clusters has finished | Output :  0.8083526579597019  | Time :  0.2151241000101436 s\n",
      "Davies-Bouldin for Levenshtein clusters has finished | Output :  0.2785258074974589  | Time :  31.53614270000253 s\n",
      "Davies-Bouldin for LCS clusters has finished | Output :  0.7844105058434508  | Time :  37.419421200000215 s\n",
      "-----------------------\n",
      "Clustering with preprocessing\n",
      "-----------------------\n",
      "Clusters with Dice Metric have been created | Time :  0.2560842999955639 s\n",
      "Clusters with Levenshtein Metric have been created | Time :  0.789765499997884 s\n",
      "Clusters with LCS Metric have been created | Time :  43.38619190000463 s\n"
     ]
    }
   ],
   "source": [
    "compare()"
   ]
  },
  {
   "attachments": {},
   "cell_type": "markdown",
   "metadata": {},
   "source": [
    "# Zadanie 6"
   ]
  },
  {
   "attachments": {},
   "cell_type": "markdown",
   "metadata": {},
   "source": [
    "W celu poprawy jakości klasteryzacji można wykorzystać dokładniejsze funkcje wbudowane metryk, znajdujące się w bibliotece sklearn."
   ]
  }
 ],
 "metadata": {
  "kernelspec": {
   "display_name": "Python 3",
   "language": "python",
   "name": "python3"
  },
  "language_info": {
   "codemirror_mode": {
    "name": "ipython",
    "version": 3
   },
   "file_extension": ".py",
   "mimetype": "text/x-python",
   "name": "python",
   "nbconvert_exporter": "python",
   "pygments_lexer": "ipython3",
   "version": "3.10.0"
  },
  "orig_nbformat": 4
 },
 "nbformat": 4,
 "nbformat_minor": 2
}
