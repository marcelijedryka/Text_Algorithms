{
 "cells": [
  {
   "attachments": {},
   "cell_type": "markdown",
   "metadata": {},
   "source": [
    "## Zadanie 1"
   ]
  },
  {
   "cell_type": "code",
   "execution_count": 71,
   "metadata": {},
   "outputs": [],
   "source": [
    "def get_dist_cols(pattern):\n",
    "    \n",
    "    n1 , n2 = len(pattern[0]) , len(pattern)\n",
    "\n",
    "    ids = []\n",
    "    dist_cols = []\n",
    "    letters = set()\n",
    "\n",
    "    for j in range(n1):\n",
    "        current_col = []\n",
    "        for i in range(n2):\n",
    "            letters.add(pattern[i][j])\n",
    "            current_col.append(pattern[i][j])\n",
    "        if current_col not in dist_cols:\n",
    "            dist_cols.append(current_col)\n",
    "            ids.append(len(dist_cols)-1)\n",
    "        else:\n",
    "            ids.append(dist_cols.index(current_col))\n",
    "    \n",
    "    return ids , dist_cols , letters\n"
   ]
  },
  {
   "cell_type": "code",
   "execution_count": 72,
   "metadata": {},
   "outputs": [],
   "source": [
    "def vertical_auto(cols , letters):\n",
    "    \n",
    "    n1 , n2 = len(cols[0]) , len(cols)\n",
    "    transition_table = [{}]\n",
    "    words = [[]]\n",
    "    states = [0 for i in range(n2)]\n",
    "\n",
    "    for j in range(n1):\n",
    "        for i in range(n2):\n",
    "            if cols[i][j] not in transition_table[states[i]]:\n",
    "                n = len(transition_table)\n",
    "                transition_table[states[i]][cols[i][j]] = n\n",
    "                transition_table.append({})\n",
    "                words.append(words[states[i]] + [cols[i][j]])\n",
    "                states[i] = n \n",
    "            else:\n",
    "                states[i] = transition_table[states[i]][cols[i][j]]\n",
    "    \n",
    "    for i , row in enumerate(transition_table):\n",
    "        for letter in letters:\n",
    "            if letter not in row:\n",
    "                state = 0\n",
    "                suffix = (words[i] + [letter])[1:]\n",
    "\n",
    "                for char in suffix:\n",
    "                    state = transition_table[state].get(char, 0)\n",
    "                \n",
    "                row[letter] = state\n",
    "    \n",
    "    return transition_table , states"
   ]
  },
  {
   "cell_type": "code",
   "execution_count": 73,
   "metadata": {},
   "outputs": [],
   "source": [
    "def horizontal_auto(pattern , letters):\n",
    "    \n",
    "    n = len(pattern)\n",
    "    output = []\n",
    "\n",
    "    for i in range(n+1):\n",
    "        output.append({})\n",
    "        for letter in letters:\n",
    "            next = min(n , i+1)\n",
    "\n",
    "            while True:\n",
    "                if pattern[:next] == (pattern[:i]+[letter])[i-next+1:i+1]:\n",
    "                    break\n",
    "\n",
    "                next -= 1\n",
    "            \n",
    "            output[i][letter] = next\n",
    "    \n",
    "    return output\n",
    "\n"
   ]
  },
  {
   "cell_type": "code",
   "execution_count": 74,
   "metadata": {},
   "outputs": [],
   "source": [
    "\n",
    "\n",
    "def match_pattern(txt , pattern , buildtime = False):\n",
    "\n",
    "    output = []\n",
    "    states = []\n",
    "\n",
    "    IDs , cols , letters = get_dist_cols(pattern)\n",
    "    v_transition_table , v_states = vertical_auto(cols , letters)\n",
    "    pattern2 = [v_states[IDs[_]] for _ in range(len(IDs))]\n",
    "    h_transition_table = horizontal_auto(pattern2 , v_states)\n",
    "    out_state = len(h_transition_table)-1\n",
    "\n",
    "    if buildtime:\n",
    "        return \n",
    "\n",
    "    for i,line in enumerate(txt):\n",
    "\n",
    "        l = len(line)\n",
    "        s = len(states)\n",
    "        h_state = 0\n",
    "\n",
    "        if s > l:\n",
    "            states = states[:l]\n",
    "        \n",
    "        if s < l:\n",
    "            states = states + [0 for _ in range(l - s)]\n",
    "\n",
    "        \n",
    "        for j , letter in enumerate(line):\n",
    "\n",
    "            if letter in v_transition_table[states[j]]:\n",
    "                states[j] = v_transition_table[states[j]][letter]\n",
    "            else:\n",
    "                states[j] = 0\n",
    "\n",
    "            if states[j] in h_transition_table[h_state]:\n",
    "                h_state = h_transition_table[h_state][states[j]]\n",
    "\n",
    "                if h_state == out_state:\n",
    "                    output.append([i-len(pattern)+1,j-len(pattern[0])+1])\n",
    "\n",
    "\n",
    "    return output\n",
    "\n",
    "\n",
    "    \n",
    "\n"
   ]
  },
  {
   "attachments": {},
   "cell_type": "markdown",
   "metadata": {},
   "source": [
    "## Zadanie 2"
   ]
  },
  {
   "cell_type": "code",
   "execution_count": 75,
   "metadata": {},
   "outputs": [],
   "source": [
    "with open(\"haystack.txt\") as f:\n",
    "    txt = f.readlines()"
   ]
  },
  {
   "cell_type": "code",
   "execution_count": 76,
   "metadata": {},
   "outputs": [
    {
     "name": "stdout",
     "output_type": "stream",
     "text": [
      "--------------------------\n",
      "Pattern:  ['a', 'a']\n",
      "Matches:  [[0, 82], [3, 30], [5, 60], [6, 63], [20, 6], [28, 69], [31, 50], [31, 73], [33, 66], [37, 4], [52, 12], [53, 12], [53, 48], [56, 11], [57, 36], [58, 36], [59, 24], [64, 2], [64, 14], [64, 22], [65, 35], [69, 35], [76, 21], [76, 74], [77, 42], [77, 61], [78, 59], [79, 37]]\n",
      "Total:  28\n",
      "--------------------------\n",
      "Pattern:  ['b', 'b']\n",
      "Matches:  []\n",
      "Total:  0\n",
      "--------------------------\n",
      "Pattern:  ['c', 'c']\n",
      "Matches:  [[3, 54], [10, 45], [13, 10], [41, 0], [68, 0], [82, 41]]\n",
      "Total:  6\n",
      "--------------------------\n",
      "Pattern:  ['d', 'd']\n",
      "Matches:  [[37, 19]]\n",
      "Total:  1\n",
      "--------------------------\n",
      "Pattern:  ['e', 'e']\n",
      "Matches:  [[0, 63], [1, 8], [4, 77], [7, 65], [10, 1], [10, 64], [14, 2], [15, 43], [17, 6], [18, 27], [20, 10], [21, 61], [22, 53], [24, 3], [24, 65], [28, 67], [28, 73], [29, 38], [29, 43], [37, 48], [40, 11], [40, 26], [41, 57], [42, 36], [42, 48], [46, 52], [47, 50], [51, 31], [57, 54], [58, 50], [58, 54], [59, 73], [63, 66], [65, 69], [66, 72], [67, 17], [68, 46], [69, 15], [70, 49], [71, 38], [72, 23], [73, 27], [76, 6], [77, 6], [78, 65], [80, 6], [81, 14], [82, 47]]\n",
      "Total:  48\n",
      "--------------------------\n",
      "Pattern:  ['f', 'f']\n",
      "Matches:  [[30, 59], [77, 1]]\n",
      "Total:  2\n",
      "--------------------------\n",
      "Pattern:  ['g', 'g']\n",
      "Matches:  []\n",
      "Total:  0\n",
      "--------------------------\n",
      "Pattern:  ['h', 'h']\n",
      "Matches:  [[27, 2], [37, 2], [56, 31], [73, 12]]\n",
      "Total:  4\n",
      "--------------------------\n",
      "Pattern:  ['i', 'i']\n",
      "Matches:  [[1, 5], [8, 37], [9, 60], [19, 55], [31, 0], [31, 31], [44, 33], [52, 69], [55, 17], [60, 45], [68, 51], [73, 13], [77, 13]]\n",
      "Total:  13\n",
      "--------------------------\n",
      "Pattern:  ['j', 'j']\n",
      "Matches:  []\n",
      "Total:  0\n",
      "--------------------------\n",
      "Pattern:  ['k', 'k']\n",
      "Matches:  []\n",
      "Total:  0\n",
      "--------------------------\n",
      "Pattern:  ['l', 'l']\n",
      "Matches:  [[28, 72], [33, 45], [41, 77], [46, 61], [53, 45]]\n",
      "Total:  5\n",
      "--------------------------\n",
      "Pattern:  ['m', 'm']\n",
      "Matches:  [[16, 5], [28, 70], [34, 40], [34, 60], [44, 0]]\n",
      "Total:  5\n",
      "--------------------------\n",
      "Pattern:  ['n', 'n']\n",
      "Matches:  [[0, 83], [1, 9], [14, 54], [19, 37], [20, 56], [21, 62], [31, 1], [35, 18], [51, 32], [54, 33], [56, 13], [64, 29], [67, 35], [67, 40], [67, 57]]\n",
      "Total:  15\n",
      "--------------------------\n",
      "Pattern:  ['o', 'o']\n",
      "Matches:  [[4, 75], [5, 66], [6, 38], [7, 38], [10, 27], [15, 60], [27, 17], [28, 17], [30, 58], [32, 34], [33, 11], [33, 26], [41, 1], [44, 55], [50, 2], [52, 8], [53, 1], [58, 45], [71, 42], [79, 10], [81, 52]]\n",
      "Total:  21\n",
      "--------------------------\n",
      "Pattern:  ['p', 'p']\n",
      "Matches:  [[28, 71], [41, 18]]\n",
      "Total:  2\n",
      "--------------------------\n",
      "Pattern:  ['q', 'q']\n",
      "Matches:  []\n",
      "Total:  0\n",
      "--------------------------\n",
      "Pattern:  ['r', 'r']\n",
      "Matches:  [[1, 4], [6, 39], [6, 50], [7, 13], [15, 18], [17, 14], [19, 54], [20, 54], [28, 65], [31, 70], [33, 10], [33, 37], [43, 25], [46, 42], [47, 37], [52, 5], [55, 40], [60, 30], [62, 39], [67, 29], [69, 22]]\n",
      "Total:  21\n",
      "--------------------------\n",
      "Pattern:  ['s', 's']\n",
      "Matches:  [[3, 57], [3, 63], [4, 49], [8, 21], [9, 58], [28, 45], [29, 56], [30, 56], [37, 34], [40, 63], [45, 34], [46, 44], [49, 14], [52, 53], [54, 0], [67, 37], [70, 41], [71, 24], [79, 24]]\n",
      "Total:  19\n",
      "--------------------------\n",
      "Pattern:  ['t', 't']\n",
      "Matches:  [[0, 7], [1, 6], [1, 7], [3, 37], [4, 14], [4, 23], [7, 29], [8, 75], [13, 55], [15, 12], [16, 3], [19, 33], [22, 8], [23, 4], [24, 4], [27, 31], [28, 23], [28, 52], [30, 16], [35, 10], [37, 0], [41, 45], [41, 73], [46, 24], [50, 0], [51, 33], [52, 61], [54, 11], [55, 54], [58, 49], [58, 78], [59, 33], [59, 75], [61, 56], [67, 71], [69, 5], [71, 3], [72, 3], [72, 10], [72, 59], [77, 22]]\n",
      "Total:  41\n",
      "--------------------------\n",
      "Pattern:  ['u', 'u']\n",
      "Matches:  []\n",
      "Total:  0\n",
      "--------------------------\n",
      "Pattern:  ['v', 'v']\n",
      "Matches:  []\n",
      "Total:  0\n",
      "--------------------------\n",
      "Pattern:  ['w', 'w']\n",
      "Matches:  [[1, 3], [21, 70]]\n",
      "Total:  2\n",
      "--------------------------\n",
      "Pattern:  ['x', 'x']\n",
      "Matches:  [[28, 68]]\n",
      "Total:  1\n",
      "--------------------------\n",
      "Pattern:  ['y', 'y']\n",
      "Matches:  [[44, 5]]\n",
      "Total:  1\n",
      "--------------------------\n",
      "Pattern:  ['z', 'z']\n",
      "Matches:  []\n",
      "Total:  0\n"
     ]
    }
   ],
   "source": [
    "for i in range(ord(\"a\") , ord(\"z\")+1):\n",
    "    pattern = [chr(i), chr(i)]\n",
    "    matches = match_pattern(txt , pattern)\n",
    "\n",
    "    print(\"--------------------------\")\n",
    "    print(\"Pattern: \" , pattern)\n",
    "    print(\"Matches: \" , matches)\n",
    "    print(\"Total: \" , len(matches))\n"
   ]
  },
  {
   "attachments": {},
   "cell_type": "markdown",
   "metadata": {},
   "source": [
    "## Zadanie 3"
   ]
  },
  {
   "cell_type": "code",
   "execution_count": 77,
   "metadata": {},
   "outputs": [
    {
     "name": "stdout",
     "output_type": "stream",
     "text": [
      "--------------------------\n",
      "Pattern:  ['th', 'th']\n",
      "Matches:  [[37, 1]]\n",
      "--------------------------\n",
      "Pattern:  ['t h', 't h']\n",
      "Matches:  [[37, 0]]\n"
     ]
    }
   ],
   "source": [
    "patterns = [[\"th\", \"th\"] , [\"t h\" , \"t h\"]]\n",
    "for pattern in patterns:\n",
    "    matches = match_pattern(txt , pattern)\n",
    "\n",
    "    print(\"--------------------------\")\n",
    "    print(\"Pattern: \" , pattern)\n",
    "    print(\"Matches: \" , matches)"
   ]
  },
  {
   "attachments": {},
   "cell_type": "markdown",
   "metadata": {},
   "source": [
    "## Zadanie 4\n"
   ]
  },
  {
   "cell_type": "code",
   "execution_count": 78,
   "metadata": {},
   "outputs": [],
   "source": [
    "from PIL import Image\n",
    "\n",
    "def get_image(filename):\n",
    "\n",
    "    image = Image.open(filename)\n",
    "    pixels = list(image.getdata())\n",
    "    x , y = image.size\n",
    "\n",
    "    output = [[]]\n",
    "    i = 0\n",
    "    n = 0\n",
    "    \n",
    "    for pixel in pixels:\n",
    "        if i == x:\n",
    "            output.append([])\n",
    "            n += 1\n",
    "            i = 0\n",
    "        \n",
    "        output[n].append(pixel[0])\n",
    "\n",
    "        i +=1\n",
    "    \n",
    "    return output"
   ]
  },
  {
   "cell_type": "code",
   "execution_count": 88,
   "metadata": {},
   "outputs": [
    {
     "name": "stdout",
     "output_type": "stream",
     "text": [
      "--------------------------\n",
      "Algorithm has found  546  result of letter  e\n",
      "--------------------------\n",
      "Algorithm has found  131  result of letter  m\n",
      "--------------------------\n",
      "Algorithm has found  334  result of letter  s\n",
      "--------------------------\n",
      "Algorithm has found  438  result of letter  t\n"
     ]
    }
   ],
   "source": [
    "letters = [\"e.png\" , \"m.png\" , \"s.png\" , \"t.png\"]\n",
    "haystack = get_image(\"haystack.png\")\n",
    "\n",
    "for letter in letters:\n",
    "    current = get_image(letter)\n",
    "    result = match_pattern(haystack , current)\n",
    "    print(\"--------------------------\")\n",
    "    print(\"Algorithm has found \" , len(result) , \" result of letter \", letter[0:1])"
   ]
  },
  {
   "attachments": {},
   "cell_type": "markdown",
   "metadata": {},
   "source": [
    "## Zadanie 5"
   ]
  },
  {
   "cell_type": "code",
   "execution_count": 91,
   "metadata": {},
   "outputs": [
    {
     "name": "stdout",
     "output_type": "stream",
     "text": [
      "Algorithm has found pattern  5  times on positions: \n",
      " [[475, 183], [497, 427], [541, 241], [585, 141], [629, 247]]\n"
     ]
    }
   ],
   "source": [
    "pattern = get_image(\"pattern.png\")\n",
    "result = match_pattern(haystack , pattern)\n",
    "print(\"Algorithm has found pattern \", len(result) , \" times on positions: \\n\" , result)\n"
   ]
  },
  {
   "attachments": {},
   "cell_type": "markdown",
   "metadata": {},
   "source": [
    "## Zadanie 6"
   ]
  },
  {
   "cell_type": "code",
   "execution_count": 84,
   "metadata": {},
   "outputs": [
    {
     "name": "stdout",
     "output_type": "stream",
     "text": [
      "--------------------------\n",
      "Size:  10\n",
      "Build time:  0.002699399999983143 s\n",
      "--------------------------\n",
      "Size:  20\n",
      "Build time:  0.018395899998722598 s\n",
      "--------------------------\n",
      "Size:  30\n",
      "Build time:  0.055641500002820976 s\n",
      "--------------------------\n",
      "Size:  40\n",
      "Build time:  0.10519039999780944 s\n",
      "--------------------------\n",
      "Size:  50\n",
      "Build time:  0.20611859999917215 s\n",
      "--------------------------\n",
      "Size:  60\n",
      "Build time:  0.40284210000390885 s\n",
      "--------------------------\n",
      "Size:  70\n",
      "Build time:  0.5562416999964626 s\n",
      "--------------------------\n",
      "Size:  80\n",
      "Build time:  0.825196900004812 s\n",
      "--------------------------\n",
      "Size:  90\n",
      "Build time:  1.2462677000003168 s\n",
      "--------------------------\n",
      "Size:  100\n",
      "Build time:  1.8374772999959532 s\n"
     ]
    }
   ],
   "source": [
    "import time , random\n",
    "\n",
    "for i in range(10 , 101 , 10):\n",
    "    pattern = [[chr(random.randint(ord('a'), ord('z'))) for i in range(i)] for j in range(i)]\n",
    "    start1 = time.perf_counter()\n",
    "    match_pattern(txt,pattern , True)\n",
    "    stop1 = time.perf_counter()\n",
    "    \n",
    "    print(\"--------------------------\")\n",
    "    print(\"Size: \" , i)\n",
    "    print(\"Build time: \" , stop1 - start1 , \"s\")"
   ]
  },
  {
   "attachments": {},
   "cell_type": "markdown",
   "metadata": {},
   "source": [
    "## Zadanie 7"
   ]
  },
  {
   "cell_type": "code",
   "execution_count": 90,
   "metadata": {},
   "outputs": [
    {
     "name": "stdout",
     "output_type": "stream",
     "text": [
      "---------------------\n",
      "Factor:  2\n",
      "Time:  0.007724299997789785 s\n",
      "---------------------\n",
      "Factor:  4\n",
      "Time:  0.013219399996160064 s\n",
      "---------------------\n",
      "Factor:  8\n",
      "Time:  0.022487800000817515 s\n"
     ]
    }
   ],
   "source": [
    "factors = [2,4,8]\n",
    "pattern = [line[:10] for line in txt[:10]]\n",
    "\n",
    "for factor in factors:\n",
    "\n",
    "    n = len(txt) // factor\n",
    "    chunks = [txt[i*n:(i + 1)*n] for i in range(factor)]\n",
    "\n",
    "    start = time.perf_counter()\n",
    "\n",
    "    for chunk in chunks:\n",
    "        match_pattern(chunk , pattern)\n",
    "    stop = time.perf_counter()\n",
    "\n",
    "    print(\"---------------------\")\n",
    "    print(\"Factor: \" , factor)\n",
    "    print(\"Time: \" , stop - start , \"s\")\n"
   ]
  }
 ],
 "metadata": {
  "kernelspec": {
   "display_name": "Python 3",
   "language": "python",
   "name": "python3"
  },
  "language_info": {
   "codemirror_mode": {
    "name": "ipython",
    "version": 3
   },
   "file_extension": ".py",
   "mimetype": "text/x-python",
   "name": "python",
   "nbconvert_exporter": "python",
   "pygments_lexer": "ipython3",
   "version": "3.10.0"
  },
  "orig_nbformat": 4
 },
 "nbformat": 4,
 "nbformat_minor": 2
}
